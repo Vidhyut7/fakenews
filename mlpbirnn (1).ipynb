{
 "cells": [
  {
   "cell_type": "code",
   "execution_count": 1,
   "id": "676422e0-dfe5-4816-94f2-013575c15dae",
   "metadata": {},
   "outputs": [
    {
     "name": "stdout",
     "output_type": "stream",
     "text": [
      "Epoch 1/50\n",
      "84/84 [==============================] - 18s 147ms/step - loss: 0.7180 - accuracy: 0.5283 - val_loss: 0.6521 - val_accuracy: 0.6254\n",
      "Epoch 2/50\n",
      "84/84 [==============================] - 11s 135ms/step - loss: 0.6608 - accuracy: 0.6095 - val_loss: 0.5762 - val_accuracy: 0.7124\n",
      "Epoch 3/50\n",
      "84/84 [==============================] - 11s 128ms/step - loss: 0.5852 - accuracy: 0.6882 - val_loss: 0.4139 - val_accuracy: 0.8896\n",
      "Epoch 4/50\n",
      "84/84 [==============================] - 11s 126ms/step - loss: 0.4994 - accuracy: 0.7597 - val_loss: 0.3778 - val_accuracy: 0.8896\n",
      "Epoch 5/50\n",
      "84/84 [==============================] - 12s 137ms/step - loss: 0.3976 - accuracy: 0.8241 - val_loss: 0.2757 - val_accuracy: 0.8629\n",
      "Epoch 6/50\n",
      "84/84 [==============================] - 11s 125ms/step - loss: 0.3040 - accuracy: 0.8700 - val_loss: 0.2192 - val_accuracy: 0.9197\n",
      "Epoch 7/50\n",
      "84/84 [==============================] - 11s 125ms/step - loss: 0.2374 - accuracy: 0.9091 - val_loss: 0.1395 - val_accuracy: 0.9565\n",
      "Epoch 8/50\n",
      "84/84 [==============================] - 11s 132ms/step - loss: 0.1792 - accuracy: 0.9303 - val_loss: 0.1362 - val_accuracy: 0.9498\n",
      "Epoch 9/50\n",
      "84/84 [==============================] - 11s 129ms/step - loss: 0.1758 - accuracy: 0.9348 - val_loss: 0.1343 - val_accuracy: 0.9431\n",
      "Epoch 10/50\n",
      "84/84 [==============================] - 11s 128ms/step - loss: 0.0936 - accuracy: 0.9683 - val_loss: 0.1230 - val_accuracy: 0.9666\n",
      "Epoch 11/50\n",
      "84/84 [==============================] - 11s 134ms/step - loss: 0.0893 - accuracy: 0.9713 - val_loss: 0.0786 - val_accuracy: 0.9699\n",
      "Epoch 12/50\n",
      "84/84 [==============================] - 11s 129ms/step - loss: 0.0652 - accuracy: 0.9795 - val_loss: 0.0980 - val_accuracy: 0.9699\n",
      "Epoch 13/50\n",
      "84/84 [==============================] - 11s 126ms/step - loss: 0.0472 - accuracy: 0.9847 - val_loss: 0.0978 - val_accuracy: 0.9766\n",
      "Epoch 14/50\n",
      "84/84 [==============================] - 11s 132ms/step - loss: 0.0369 - accuracy: 0.9888 - val_loss: 0.0866 - val_accuracy: 0.9699\n",
      "Epoch 15/50\n",
      "84/84 [==============================] - 11s 128ms/step - loss: 0.0289 - accuracy: 0.9911 - val_loss: 0.1338 - val_accuracy: 0.9532\n",
      "Epoch 16/50\n",
      "84/84 [==============================] - 11s 132ms/step - loss: 0.0489 - accuracy: 0.9817 - val_loss: 0.2712 - val_accuracy: 0.9431\n",
      "Epoch 17/50\n",
      "84/84 [==============================] - 11s 131ms/step - loss: 0.0214 - accuracy: 0.9933 - val_loss: 0.3447 - val_accuracy: 0.9298\n",
      "Epoch 18/50\n",
      "84/84 [==============================] - 11s 131ms/step - loss: 0.0270 - accuracy: 0.9907 - val_loss: 0.1609 - val_accuracy: 0.9699\n",
      "Epoch 19/50\n",
      "84/84 [==============================] - 10s 123ms/step - loss: 0.0270 - accuracy: 0.9925 - val_loss: 0.1528 - val_accuracy: 0.9666\n",
      "Epoch 20/50\n",
      "84/84 [==============================] - 11s 131ms/step - loss: 0.0201 - accuracy: 0.9929 - val_loss: 0.1013 - val_accuracy: 0.9799\n",
      "Epoch 21/50\n",
      "84/84 [==============================] - 11s 131ms/step - loss: 0.0160 - accuracy: 0.9952 - val_loss: 0.2549 - val_accuracy: 0.9532\n",
      "Epoch 22/50\n",
      "84/84 [==============================] - 11s 127ms/step - loss: 0.0173 - accuracy: 0.9937 - val_loss: 0.2395 - val_accuracy: 0.9565\n",
      "Epoch 23/50\n",
      "84/84 [==============================] - 11s 129ms/step - loss: 0.0167 - accuracy: 0.9925 - val_loss: 0.1377 - val_accuracy: 0.9699\n",
      "Epoch 24/50\n",
      "84/84 [==============================] - 11s 134ms/step - loss: 0.0086 - accuracy: 0.9974 - val_loss: 0.1903 - val_accuracy: 0.9666\n",
      "Epoch 25/50\n",
      "84/84 [==============================] - 11s 127ms/step - loss: 0.0130 - accuracy: 0.9955 - val_loss: 0.3010 - val_accuracy: 0.9465\n",
      "Epoch 26/50\n",
      "84/84 [==============================] - 10s 120ms/step - loss: 0.0105 - accuracy: 0.9952 - val_loss: 0.1660 - val_accuracy: 0.9699\n",
      "Epoch 27/50\n",
      "84/84 [==============================] - 11s 132ms/step - loss: 0.0150 - accuracy: 0.9933 - val_loss: 0.1443 - val_accuracy: 0.9632\n",
      "Epoch 28/50\n",
      "84/84 [==============================] - 11s 130ms/step - loss: 0.0450 - accuracy: 0.9825 - val_loss: 0.5322 - val_accuracy: 0.8863\n",
      "Epoch 29/50\n",
      "84/84 [==============================] - 11s 128ms/step - loss: 0.0222 - accuracy: 0.9929 - val_loss: 0.2135 - val_accuracy: 0.9465\n",
      "Epoch 30/50\n",
      "84/84 [==============================] - 11s 134ms/step - loss: 0.0185 - accuracy: 0.9944 - val_loss: 0.2379 - val_accuracy: 0.9666\n",
      "Epoch 31/50\n",
      "84/84 [==============================] - 11s 128ms/step - loss: 0.0086 - accuracy: 0.9974 - val_loss: 0.1247 - val_accuracy: 0.9699\n",
      "Epoch 32/50\n",
      "84/84 [==============================] - 11s 127ms/step - loss: 0.0122 - accuracy: 0.9963 - val_loss: 0.2316 - val_accuracy: 0.9699\n",
      "Epoch 33/50\n",
      "84/84 [==============================] - 11s 135ms/step - loss: 0.0132 - accuracy: 0.9940 - val_loss: 0.1526 - val_accuracy: 0.9732\n",
      "Epoch 34/50\n",
      "84/84 [==============================] - 11s 127ms/step - loss: 0.0050 - accuracy: 0.9974 - val_loss: 0.1948 - val_accuracy: 0.9732\n",
      "Epoch 35/50\n",
      "84/84 [==============================] - 11s 127ms/step - loss: 0.0022 - accuracy: 0.9985 - val_loss: 0.2715 - val_accuracy: 0.9498\n",
      "Epoch 36/50\n",
      "84/84 [==============================] - 11s 134ms/step - loss: 0.0038 - accuracy: 0.9989 - val_loss: 0.1750 - val_accuracy: 0.9766\n",
      "Epoch 37/50\n",
      "84/84 [==============================] - 11s 127ms/step - loss: 0.0038 - accuracy: 0.9978 - val_loss: 0.2613 - val_accuracy: 0.9666\n",
      "Epoch 38/50\n",
      "84/84 [==============================] - 11s 128ms/step - loss: 0.0034 - accuracy: 0.9981 - val_loss: 0.2026 - val_accuracy: 0.9699\n",
      "Epoch 39/50\n",
      "84/84 [==============================] - 11s 135ms/step - loss: 0.0022 - accuracy: 0.9996 - val_loss: 0.4296 - val_accuracy: 0.9599\n",
      "Epoch 40/50\n",
      "84/84 [==============================] - 11s 129ms/step - loss: 0.0017 - accuracy: 0.9996 - val_loss: 0.1787 - val_accuracy: 0.9699\n",
      "Epoch 41/50\n",
      "84/84 [==============================] - 10s 122ms/step - loss: 0.0015 - accuracy: 0.9993 - val_loss: 0.1787 - val_accuracy: 0.9799\n",
      "Epoch 42/50\n",
      "84/84 [==============================] - 10s 119ms/step - loss: 0.0034 - accuracy: 0.9989 - val_loss: 0.2186 - val_accuracy: 0.9766\n",
      "Epoch 43/50\n",
      "84/84 [==============================] - 10s 121ms/step - loss: 0.0052 - accuracy: 0.9981 - val_loss: 0.2925 - val_accuracy: 0.9565\n",
      "Epoch 44/50\n",
      "84/84 [==============================] - 10s 120ms/step - loss: 0.0045 - accuracy: 0.9993 - val_loss: 0.3211 - val_accuracy: 0.9699\n",
      "Epoch 45/50\n",
      "84/84 [==============================] - 10s 119ms/step - loss: 0.0092 - accuracy: 0.9963 - val_loss: 0.2462 - val_accuracy: 0.9699\n",
      "Epoch 46/50\n",
      "84/84 [==============================] - 10s 123ms/step - loss: 0.0049 - accuracy: 0.9989 - val_loss: 0.3847 - val_accuracy: 0.9699\n",
      "Epoch 47/50\n",
      "84/84 [==============================] - 10s 124ms/step - loss: 0.0076 - accuracy: 0.9978 - val_loss: 0.3990 - val_accuracy: 0.9532\n",
      "Epoch 48/50\n",
      "84/84 [==============================] - 11s 127ms/step - loss: 0.0045 - accuracy: 0.9985 - val_loss: 0.2359 - val_accuracy: 0.9632\n",
      "Epoch 49/50\n",
      "84/84 [==============================] - 10s 119ms/step - loss: 0.0045 - accuracy: 0.9993 - val_loss: 0.2089 - val_accuracy: 0.9732\n",
      "Epoch 50/50\n",
      "84/84 [==============================] - 11s 127ms/step - loss: 0.0029 - accuracy: 0.9989 - val_loss: 0.3179 - val_accuracy: 0.9632\n",
      "24/24 [==============================] - 1s 17ms/step\n",
      "Accuracy: 96.65%\n",
      "Precision: 96.68%\n",
      "Recall: 96.65%\n",
      "F1 Score: 96.65%\n"
     ]
    },
    {
     "data": {
      "image/png": "[encoded data removed]",
      "text/plain": [
       "<Figure size 640x480 with 2 Axes>"
      ]
     },
     "metadata": {},
     "output_type": "display_data"
    }
   ],
   "source": [
    "import pandas as pd\n",
    "import numpy as np\n",
    "from tensorflow.keras.models import Sequential\n",
    "from tensorflow.keras.layers import Embedding, Bidirectional, SimpleRNN, Dense, Flatten, Dropout\n",
    "from tensorflow.keras.preprocessing.text import Tokenizer\n",
    "from tensorflow.keras.preprocessing.sequence import pad_sequences\n",
    "from tensorflow.keras.utils import to_categorical\n",
    "from sklearn.model_selection import train_test_split\n",
    "from sklearn.preprocessing import LabelEncoder\n",
    "from sklearn.metrics import accuracy_score, precision_score, recall_score, f1_score, confusion_matrix\n",
    "import matplotlib.pyplot as plt\n",
    "from sklearn.metrics import ConfusionMatrixDisplay\n",
    "\n",
    "# Load dataset\n",
    "file_path = \"C:\\\\Users\\\\HP\\\\Downloads\\\\NEWS.csv\"\n",
    "data = pd.read_csv(file_path)\n",
    "\n",
    "# Preprocess text data\n",
    "data['text'] = data['text'].apply(lambda x: x.lower() if pd.notna(x) else \"\")\n",
    "\n",
    "# Encode labels\n",
    "label_encoder = LabelEncoder()\n",
    "data['label'] = label_encoder.fit_transform(data['label'])\n",
    "num_classes = len(label_encoder.classes_)\n",
    "\n",
    "# Prepare data for training\n",
    "x = data['text']\n",
    "y = to_categorical(data['label'], num_classes=num_classes)\n",
    "\n",
    "x_train, x_test, y_train, y_test = train_test_split(x, y, test_size=0.2, random_state=42)\n",
    "\n",
    "# Tokenization\n",
    "max_words = 10000  \n",
    "max_sequence_length = 100  \n",
    "tokenizer = Tokenizer(num_words=max_words)\n",
    "tokenizer.fit_on_texts(x_train)\n",
    "x_train_sequences = tokenizer.texts_to_sequences(x_train)\n",
    "x_test_sequences = tokenizer.texts_to_sequences(x_test)\n",
    "\n",
    "# Padding sequences\n",
    "x_train_padded = pad_sequences(x_train_sequences, maxlen=max_sequence_length)\n",
    "x_test_padded = pad_sequences(x_test_sequences, maxlen=max_sequence_length)\n",
    "\n",
    "# Define hybrid model\n",
    "embedding_dim = 100  \n",
    "RNN_units = 128\n",
    "MLP_units = 64\n",
    "\n",
    "def build_hybrid_model():\n",
    "    model = Sequential()\n",
    "    model.add(Embedding(input_dim=max_words, output_dim=embedding_dim, input_length=max_sequence_length))\n",
    "    model.add(Bidirectional(SimpleRNN(units=RNN_units, dropout=0.2, recurrent_dropout=0.2)))\n",
    "    model.add(Dense(MLP_units, activation='relu'))\n",
    "    model.add(Dropout(0.3))\n",
    "    model.add(Dense(num_classes, activation='softmax'))\n",
    "    \n",
    "    model.compile(loss='categorical_crossentropy', optimizer='adam', metrics=['accuracy'])\n",
    "    return model\n",
    "\n",
    "# Train model\n",
    "model = build_hybrid_model()\n",
    "epochs = 50\n",
    "batch_size = 32\n",
    "\n",
    "model.fit(x_train_padded, y_train, epochs=epochs, batch_size=batch_size, validation_split=0.1)\n",
    "\n",
    "# Evaluate model\n",
    "y_pred = model.predict(x_test_padded)\n",
    "y_pred_classes = np.argmax(y_pred, axis=1)\n",
    "y_true_classes = np.argmax(y_test, axis=1)\n",
    "\n",
    "accuracy = accuracy_score(y_true_classes, y_pred_classes)\n",
    "precision = precision_score(y_true_classes, y_pred_classes, average='weighted')\n",
    "recall = recall_score(y_true_classes, y_pred_classes, average='weighted')\n",
    "f1 = f1_score(y_true_classes, y_pred_classes, average='weighted')\n",
    "\n",
    "print(f\"Accuracy: {accuracy * 100:.2f}%\")\n",
    "print(f\"Precision: {precision * 100:.2f}%\")\n",
    "print(f\"Recall: {recall * 100:.2f}%\")\n",
    "print(f\"F1 Score: {f1 * 100:.2f}%\")\n",
    "\n",
    "# Confusion Matrix\n",
    "cm = confusion_matrix(y_true_classes, y_pred_classes)\n",
    "disp = ConfusionMatrixDisplay(confusion_matrix=cm, display_labels=label_encoder.classes_)\n",
    "disp.plot(cmap='viridis', values_format='d')\n",
    "plt.title('Confusion Matrix for Hybrid Model')\n",
    "plt.xlabel('Predicted Label')\n",
    "plt.ylabel('True Label')\n",
    "plt.show()"
   ]
  },
  {
   "cell_type": "code",
   "execution_count": 3,
   "id": "b9da19b7-d12e-49aa-9e6d-edeac7888024",
   "metadata": {},
   "outputs": [
    {
     "name": "stdout",
     "output_type": "stream",
     "text": [
      "Model saved successfully as 'hybrid_model.h5'\n"
     ]
    }
   ],
   "source": [
    "# Save the trained model in .h5 format\n",
    "model.save(\"hybrid_model.h5\")\n",
    "print(\"Model saved successfully as 'hybrid_model.h5'\")\n"
   ]
  },
  {
   "cell_type": "code",
   "execution_count": 4,
   "id": "51e75467-018a-4cd3-a15d-afc506ab78fe",
   "metadata": {},
   "outputs": [
    {
     "name": "stdout",
     "output_type": "stream",
     "text": [
      "Tokenizer saved successfully as 'tokenizer.pkl'\n"
     ]
    }
   ],
   "source": [
    "import pickle\n",
    "\n",
    "# Save the tokenizer\n",
    "with open('tokenizer.pkl', 'wb') as f:\n",
    "    pickle.dump(tokenizer, f)\n",
    "print(\"Tokenizer saved successfully as 'tokenizer.pkl'\")\n"
   ]
  },
  {
   "cell_type": "code",
   "execution_count": 5,
   "id": "7a270c9e-26bf-4b63-affd-ce049d66f4d0",
   "metadata": {},
   "outputs": [
    {
     "name": "stdout",
     "output_type": "stream",
     "text": [
      "Label encoder saved successfully as 'label_encoder.pkl'\n"
     ]
    }
   ],
   "source": [
    "# Save the label encoder\n",
    "with open('label_encoder.pkl', 'wb') as f:\n",
    "    pickle.dump(label_encoder, f)\n",
    "print(\"Label encoder saved successfully as 'label_encoder.pkl'\")\n"
   ]
  },
  {
   "cell_type": "code",
   "execution_count": 6,
   "id": "25488ef7-434d-4ed4-a622-d7f25e6be993",
   "metadata": {},
   "outputs": [
    {
     "name": "stdout",
     "output_type": "stream",
     "text": [
      "Model, tokenizer, and label encoder loaded successfully!\n"
     ]
    }
   ],
   "source": [
    "from tensorflow.keras.models import load_model\n",
    "\n",
    "# Load model\n",
    "model = load_model(\"hybrid_model.h5\")\n",
    "\n",
    "# Load tokenizer\n",
    "with open('tokenizer.pkl', 'rb') as f:\n",
    "    tokenizer = pickle.load(f)\n",
    "\n",
    "# Load label encoder\n",
    "with open('label_encoder.pkl', 'rb') as f:\n",
    "    label_encoder = pickle.load(f)\n",
    "\n",
    "print(\"Model, tokenizer, and label encoder loaded successfully!\")\n"
   ]
  },
  {
   "cell_type": "code",
   "execution_count": null,
   "id": "f3dcf09c-f833-4b4c-8b90-b674f618da68",
   "metadata": {},
   "outputs": [
    {
     "name": "stdout",
     "output_type": "stream",
     "text": [
      "✅ Model Loaded Successfully!\n"
     ]
    },
    {
     "name": "stdout",
     "output_type": "stream",
     "text": [
      "Enter the news article:  An old video of a pod of whales swimming alongside of what appears to be a vessel has resurfaced with claims that it is from the Mumbai High Field (Bombay High) an offshore oilfield located 176 km off the coast of Mumbai.  The breathtaking video captures at least five humpback whales, a few among them spouting water, as people onboard the vessel remain awestruck. The video is being erroneously identified as shot in the oilfield (managed by Oil and Natural Gas Corporation) in the backdrop of the lockdown that was announced on March 24, to prevent the transmission of the novel Coronavirus.  Following the lockdown and the ensuing restricted movement in the country, multiple unrelated photos and videos of animals have surfaced with narratives that the wildlife is reclaiming their habitats.  The video is viral on both Facebook and Twitter with the caption, \"Whales spotted at Bombay high oil rig!!!'' One such Facebook post is archived here.    Many have questioned the authenticity of the video on Twitter as well. View an archive of the tweet here.  Said to be a sighting from the Bombay High offshore oil field, would be grateful if someone could authenticate. Even if not, it's a lovely sight!!!! pic.twitter.com/HpU4jPPJc0 â€” Nistula Hebbar (@nistula) April 4, 2020  The clip has also been shared on YouTube with the caption, \"Animals coming out while humans are locked down - Whales spotted at Bombay High Oil Rig Part 4\"  Furthermore, an article by India TV's web desk erroneously identified the location as Bombay High as well. The article is headlined as, \"Whale-Like creature spotted in Bombay High Waters.\" The article however states that the ONGC has clarified that it is not the oilfield. Click here to see the archived report. Also Read: Rewa Police Action On Temple Priest For Violating Lockdown Viral With Communal Spin Fact Check BOOM reverse searched the frames of the clip and found a longer video of the same footage on YouTube that was uploaded on August, 2019. According to the caption, the video is from Nusa Penida, an island located in the southeast region of Indonesia's Bali.  Upon further keyword searches, we found another video that was tweeted by BBC Indonesia on August 29, 2019. The caption, when translated to English, reads, \"Video, A group of humpback whales are seen crossing the Karimunjawa sea, even though Indonesian waters are not part of their annual migration path.\"  [Video] Sekelompok paus bungkuk terlihat melintasi laut Karimunjawa, padahal perairan Indonesia bukan termasuk jalur migrasi tahunan mereka. pic.twitter.com/k3ikjF8D2y â€” BBC News Indonesia (@BBCIndonesia) August 29, 2019  We further compared the frames from both the video uploaded by BBC News Indonesia and the viral clip.      An excerpt from the BBC feature, when translated to English, reads, \"A bunch of humpback whales, caught on camera crossing the Sea of Karimunjawa. The humpback whale commonly migrates from the Seltan hemisphere to the north for breeding. However, Indonesian waters are not part of the humpback whale migration path, which is more commonly found in Australian waters. It is also their annual migration path. Humpback whales generally migrate up to 10,000 km every year from cold waters in Antarctica into warmer waters in Asutralia.\n"
     ]
    },
    {
     "name": "stdout",
     "output_type": "stream",
     "text": [
      "1/1 [==============================] - 0s 298ms/step\n",
      "\n",
      "📰 Predicted Label: Fake\n"
     ]
    }
   ],
   "source": [
    "import pandas as pd\n",
    "import numpy as np\n",
    "import tensorflow as tf\n",
    "from tensorflow.keras.preprocessing.text import Tokenizer\n",
    "from tensorflow.keras.preprocessing.sequence import pad_sequences\n",
    "\n",
    "\n",
    "model = tf.keras.models.load_model(r\"C:\\Users\\HP\\mlpbirnn.h5\")\n",
    "print(\"Model Loaded Successfully!\")\n",
    "\n",
    "\n",
    "file_path = r\"C:\\Users\\HP\\Downloads\\NEWS.csv\"  # Update if needed\n",
    "data = pd.read_csv(file_path)\n",
    "data = data.dropna()  # Remove missing values\n",
    "data['text'] = data['text'].apply(lambda x: x.lower())  # Convert text to lowercase\n",
    "\n",
    "\n",
    "from sklearn.model_selection import train_test_split\n",
    "\n",
    "x = data['text']\n",
    "y = data['label']\n",
    "\n",
    "x_train, x_test, y_train, y_test = train_test_split(x, y, test_size=0.2, random_state=42)\n",
    "\n",
    "\n",
    "max_words = 10000  \n",
    "max_sequence_length = 100\n",
    "\n",
    "tokenizer = Tokenizer(num_words=max_words)\n",
    "tokenizer.fit_on_texts(x_train)  \n",
    "\n",
    "\n",
    "def predict_news(news_article):\n",
    "    news_article = news_article.lower()\n",
    "    sequence = tokenizer.texts_to_sequences([news_article])\n",
    "    padded_sequence = pad_sequences(sequence, maxlen=max_sequence_length)\n",
    "\n",
    "    prediction = model.predict(padded_sequence)\n",
    "    predicted_class = np.argmax(prediction, axis=1)[0]\n",
    "\n",
    "    label_mapping = {0: \"Fake\", 1: \"Real\"}\n",
    "    return label_mapping.get(predicted_class, \"Unknown\")\n",
    "\n",
    "\n",
    "news_text = input(\"Enter the news article: \")\n",
    "prediction = predict_news(news_text)\n",
    "print(\"\\n📰 Predicted Label:\", prediction)\n"
   ]
  },
  {
   "cell_type": "code",
   "execution_count": 5,
   "id": "f51979fb-98c3-4d28-9018-913bc2900bee",
   "metadata": {},
   "outputs": [
    {
     "name": "stdout",
     "output_type": "stream",
     "text": [
      "Model Loaded Successfully!\n"
     ]
    }
   ],
   "source": [
    "import tensorflow as tf\n",
    "\n",
    "# Load the saved model from the correct path\n",
    "model = tf.keras.models.load_model(r\"C:\\Users\\HP\\mlpbirnn.h5\")\n",
    "\n",
    "print(\"Model Loaded Successfully!\")\n"
   ]
  },
  {
   "cell_type": "code",
   "execution_count": null,
   "id": "40cf459b-d20c-4c58-bfd9-1cb2f82cc1be",
   "metadata": {},
   "outputs": [],
   "source": []
  }
 ],
 "metadata": {
  "kernelspec": {
   "display_name": "Python 3 (ipykernel)",
   "language": "python",
   "name": "python3"
  },
  "language_info": {
   "codemirror_mode": {
    "name": "ipython",
    "version": 3
   },
   "file_extension": ".py",
   "mimetype": "text/x-python",
   "name": "python",
   "nbconvert_exporter": "python",
   "pygments_lexer": "ipython3",
   "version": "3.9.18"
  }
 },
 "nbformat": 4,
 "nbformat_minor": 5
}
